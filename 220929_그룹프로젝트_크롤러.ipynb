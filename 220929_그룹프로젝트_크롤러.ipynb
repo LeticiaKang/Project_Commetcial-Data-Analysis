{
 "cells": [
  {
   "cell_type": "code",
   "execution_count": 2,
   "id": "f0f2ff9c",
   "metadata": {},
   "outputs": [],
   "source": [
    "#임포트\n",
    "import pickle \n",
    "from selenium import webdriver\n",
    "from webdriver_manager.chrome import ChromeDriverManager\n",
    "from selenium.webdriver.common.action_chains import ActionChains\n",
    "import pandas as pd #엑셀화 판다스\n",
    "import time\n",
    "from selenium.webdriver.common.keys import Keys #키보드\n",
    "from bs4 import BeautifulSoup as bs\n",
    "from selenium.common.exceptions import TimeoutException\n",
    "from selenium.webdriver.support.ui import WebDriverWait\n",
    "from selenium.webdriver.support import expected_conditions as EC\n",
    "from selenium.webdriver.common.by import By\n",
    "timeout = 10"
   ]
  },
  {
   "cell_type": "code",
   "execution_count": 9,
   "id": "a0c7307a",
   "metadata": {},
   "outputs": [],
   "source": [
    "#데이터 로드\n",
    "#with open('save_data.pkl','rb')as f:\n",
    "#    dong_list= pickle.load(f)\n",
    "dong_list=pd.read_excel(\"서울시_행정동.xlsx\")\n",
    "\n",
    "#변수선언\n",
    "person=[]\n",
    "business=[]\n",
    "price=[]\n",
    "dong=[]\n",
    "input_userid=str(input(f\"유저 id를 입력해 주세요.\"))\n",
    "input_userpassword=str(input(f\"유저 password를 입력해 주세요.\")) \n",
    "inputb = str(input(f\"검색 할 업종을 선택해 주세요.\")) # 커피전문점/카페/다방"
   ]
  },
  {
   "cell_type": "code",
   "execution_count": 11,
   "id": "c4ab8790",
   "metadata": {},
   "outputs": [
    {
     "ename": "ElementNotInteractableException",
     "evalue": "Message: element not interactable\n  (Session info: chrome=107.0.5304.107)\n",
     "output_type": "error",
     "traceback": [
      "\u001b[1;31m---------------------------------------------------------------------------\u001b[0m",
      "\u001b[1;31mElementNotInteractableException\u001b[0m           Traceback (most recent call last)",
      "Cell \u001b[1;32mIn [11], line 39\u001b[0m\n\u001b[0;32m     36\u001b[0m time\u001b[39m.\u001b[39msleep(\u001b[39m1\u001b[39m)\n\u001b[0;32m     38\u001b[0m \u001b[39m#간단분석 클릭하기\u001b[39;00m\n\u001b[1;32m---> 39\u001b[0m driver\u001b[39m.\u001b[39;49mfind_element_by_xpath(\u001b[39m'\u001b[39;49m\u001b[39m//*[@id=\u001b[39;49m\u001b[39m\"\u001b[39;49m\u001b[39mdata_pop\u001b[39;49m\u001b[39m\"\u001b[39;49m\u001b[39m]/div[2]/a\u001b[39;49m\u001b[39m'\u001b[39;49m)\u001b[39m.\u001b[39;49mclick()\n\u001b[0;32m     40\u001b[0m driver\u001b[39m.\u001b[39mimplicitly_wait(\u001b[39m10\u001b[39m)\n\u001b[0;32m     41\u001b[0m time\u001b[39m.\u001b[39msleep(\u001b[39m3\u001b[39m)\n",
      "File \u001b[1;32mc:\\Users\\user\\anaconda3\\lib\\site-packages\\selenium\\webdriver\\remote\\webelement.py:80\u001b[0m, in \u001b[0;36mWebElement.click\u001b[1;34m(self)\u001b[0m\n\u001b[0;32m     78\u001b[0m \u001b[39mdef\u001b[39;00m \u001b[39mclick\u001b[39m(\u001b[39mself\u001b[39m):\n\u001b[0;32m     79\u001b[0m     \u001b[39m\"\"\"Clicks the element.\"\"\"\u001b[39;00m\n\u001b[1;32m---> 80\u001b[0m     \u001b[39mself\u001b[39;49m\u001b[39m.\u001b[39;49m_execute(Command\u001b[39m.\u001b[39;49mCLICK_ELEMENT)\n",
      "File \u001b[1;32mc:\\Users\\user\\anaconda3\\lib\\site-packages\\selenium\\webdriver\\remote\\webelement.py:628\u001b[0m, in \u001b[0;36mWebElement._execute\u001b[1;34m(self, command, params)\u001b[0m\n\u001b[0;32m    626\u001b[0m     params \u001b[39m=\u001b[39m {}\n\u001b[0;32m    627\u001b[0m params[\u001b[39m'\u001b[39m\u001b[39mid\u001b[39m\u001b[39m'\u001b[39m] \u001b[39m=\u001b[39m \u001b[39mself\u001b[39m\u001b[39m.\u001b[39m_id\n\u001b[1;32m--> 628\u001b[0m \u001b[39mreturn\u001b[39;00m \u001b[39mself\u001b[39;49m\u001b[39m.\u001b[39;49m_parent\u001b[39m.\u001b[39;49mexecute(command, params)\n",
      "File \u001b[1;32mc:\\Users\\user\\anaconda3\\lib\\site-packages\\selenium\\webdriver\\remote\\webdriver.py:312\u001b[0m, in \u001b[0;36mWebDriver.execute\u001b[1;34m(self, driver_command, params)\u001b[0m\n\u001b[0;32m    310\u001b[0m response \u001b[39m=\u001b[39m \u001b[39mself\u001b[39m\u001b[39m.\u001b[39mcommand_executor\u001b[39m.\u001b[39mexecute(driver_command, params)\n\u001b[0;32m    311\u001b[0m \u001b[39mif\u001b[39;00m response:\n\u001b[1;32m--> 312\u001b[0m     \u001b[39mself\u001b[39;49m\u001b[39m.\u001b[39;49merror_handler\u001b[39m.\u001b[39;49mcheck_response(response)\n\u001b[0;32m    313\u001b[0m     response[\u001b[39m'\u001b[39m\u001b[39mvalue\u001b[39m\u001b[39m'\u001b[39m] \u001b[39m=\u001b[39m \u001b[39mself\u001b[39m\u001b[39m.\u001b[39m_unwrap_value(\n\u001b[0;32m    314\u001b[0m         response\u001b[39m.\u001b[39mget(\u001b[39m'\u001b[39m\u001b[39mvalue\u001b[39m\u001b[39m'\u001b[39m, \u001b[39mNone\u001b[39;00m))\n\u001b[0;32m    315\u001b[0m     \u001b[39mreturn\u001b[39;00m response\n",
      "File \u001b[1;32mc:\\Users\\user\\anaconda3\\lib\\site-packages\\selenium\\webdriver\\remote\\errorhandler.py:242\u001b[0m, in \u001b[0;36mErrorHandler.check_response\u001b[1;34m(self, response)\u001b[0m\n\u001b[0;32m    240\u001b[0m         alert_text \u001b[39m=\u001b[39m value[\u001b[39m'\u001b[39m\u001b[39malert\u001b[39m\u001b[39m'\u001b[39m]\u001b[39m.\u001b[39mget(\u001b[39m'\u001b[39m\u001b[39mtext\u001b[39m\u001b[39m'\u001b[39m)\n\u001b[0;32m    241\u001b[0m     \u001b[39mraise\u001b[39;00m exception_class(message, screen, stacktrace, alert_text)\n\u001b[1;32m--> 242\u001b[0m \u001b[39mraise\u001b[39;00m exception_class(message, screen, stacktrace)\n",
      "\u001b[1;31mElementNotInteractableException\u001b[0m: Message: element not interactable\n  (Session info: chrome=107.0.5304.107)\n"
     ]
    }
   ],
   "source": [
    "# 검색 한 후 사이트 바로가기\n",
    "driver=webdriver.Chrome(ChromeDriverManager().install())\n",
    "\n",
    "# 원하는 사이트로 이동하는 링크 넣기\n",
    "driver.get(\"https://sg.sbiz.or.kr/godo/index.sg\")\n",
    "driver.maximize_window()\n",
    "driver.implicitly_wait(5)\n",
    "\n",
    "# 로그인 : xpath사용 / 클릭하기\n",
    "driver.find_element_by_xpath('//*[@id=\"header\"]/div/ul/li[1]/div').click()\n",
    "driver.implicitly_wait(5)\n",
    "time.sleep(1)\n",
    "\n",
    "# 로그인 아이디 및 비밀번호 입력\n",
    "driver.find_element_by_xpath('//*[@id=\"id\"]').send_keys(input_userid)\n",
    "driver.find_element_by_xpath('//*[@id=\"pass\"]').send_keys(input_userpassword)\n",
    "driver.implicitly_wait(5)\n",
    "driver.find_element_by_xpath('/html/body/div/div[3]/form/div/button').click()\n",
    "driver.implicitly_wait(5)\n",
    "time.sleep(1)\n",
    "\n",
    "# 팝업창 보지 않기\n",
    "driver.find_element_by_css_selector('div.b-radius > a').click()\n",
    "driver.implicitly_wait(5)\n",
    "time.sleep(1)\n",
    "\n",
    "#확대\n",
    "driver.find_element_by_css_selector('#container > div.custom_zoomcontrol > div:nth-child(3) > a:nth-child(1)').click()\n",
    "driver.implicitly_wait(5)\n",
    "time.sleep(1)\n",
    "driver.find_element_by_css_selector('#container > div.custom_zoomcontrol > div:nth-child(3) > a:nth-child(1)').click()\n",
    "driver.implicitly_wait(5)\n",
    "time.sleep(1)\n",
    "driver.find_element_by_css_selector('#container > div.custom_zoomcontrol > div:nth-child(3) > a:nth-child(1)').click()\n",
    "driver.implicitly_wait(5)\n",
    "time.sleep(1)\n",
    "\n",
    "#간단분석 클릭하기\n",
    "driver.find_element_by_xpath('//*[@id=\"data_pop\"]/div[2]/a').click()\n",
    "driver.implicitly_wait(10)\n",
    "time.sleep(3)\n",
    "\n",
    "#동단위로 검색\n",
    "\n",
    "for k in range(len(dong_list[0])):\n",
    "    try:\n",
    "        address_search=driver.find_element_by_xpath('//*[@id=\"searchAddress\"]')\n",
    "        driver.implicitly_wait(5)\n",
    "        time.sleep(1)\n",
    "        \n",
    "        element_present = EC.presence_of_element_located((By.ID, 'searchAddress'))\n",
    "        WebDriverWait(driver, timeout).until(element_present)\n",
    "        address_search.click()\n",
    "        driver.implicitly_wait(5)\n",
    "        address_search.clear()\n",
    "        \n",
    "        input_address=dong_list[0][k]\n",
    "        print (f'{k} 번 {input_address} 을 검색합니다')\n",
    "        address_search.send_keys(input_address)\n",
    "        address_search.send_keys(Keys.ENTER)\n",
    "        driver.implicitly_wait(5)\n",
    "        time.sleep(1)\n",
    "        element_present = EC.presence_of_element_located((By.ID, 'searchAddress'))\n",
    "        WebDriverWait(driver, timeout).until(element_present)\n",
    "        driver.find_element_by_css_selector('div:nth-child(3) > div.foot > a:nth-child(2) > span').click()\n",
    "        driver.implicitly_wait(5)\n",
    "        time.sleep(1)\n",
    "        driver.find_element_by_xpath('//*[@id=\"currentState\"]/div/a').click()\n",
    "        driver.implicitly_wait(5)\n",
    "        time.sleep(1)\n",
    "        \n",
    "#        inputb='학원'\n",
    "        search_detail_list=driver.find_element_by_xpath('//*[@id=\"searchWord\"]')\n",
    "        search_detail_list.click()\n",
    "        search_detail_list.send_keys(inputb)\n",
    "        search_detail_list.send_keys(Keys.ENTER)\n",
    "\n",
    "        driver.find_element_by_css_selector('div > div.midd > div.midd > div.searchview > div > ul > li > ul > li > label').click()\n",
    "        driver.find_element_by_xpath('//*[@id=\"checkTypeConfirm\"]/span').click()\n",
    "        driver.implicitly_wait(5)\n",
    "        time.sleep(1)\n",
    "\n",
    "        #soup\n",
    "        soup=bs(driver.page_source, 'html.parser')\n",
    "        soup\n",
    "\n",
    "        #변수 넣기\n",
    "\n",
    "        search_dong=soup.select('div.cell>span')\n",
    "        for i in search_dong:\n",
    "            dong.append(i.text)\n",
    "        search_numbers=soup.select('div.cell>strong')\n",
    "        for i in range(int(len(search_numbers)/3)):\n",
    "            imsi = search_numbers[i*3 : i*3+3]\n",
    "            business.append(imsi[0].text)\n",
    "            person.append(imsi[1].text)\n",
    "            price.append(imsi[2].text)\n",
    "    except:\n",
    "        print(print (f'{k}번 {input_address} 을 skip합니다'))\n",
    "        pass"
   ]
  },
  {
   "cell_type": "code",
   "execution_count": null,
   "id": "82208240",
   "metadata": {},
   "outputs": [],
   "source": [
    "print (person)\n",
    "print (business)\n",
    "print (price)\n",
    "print (dong)"
   ]
  },
  {
   "cell_type": "code",
   "execution_count": null,
   "id": "3943ae34",
   "metadata": {},
   "outputs": [],
   "source": [
    "dong_list.shape"
   ]
  },
  {
   "cell_type": "code",
   "execution_count": null,
   "id": "064c1892",
   "metadata": {},
   "outputs": [],
   "source": [
    "soup"
   ]
  },
  {
   "cell_type": "code",
   "execution_count": null,
   "id": "3c9af66d",
   "metadata": {},
   "outputs": [],
   "source": [
    "print (person)\n",
    "print (business)\n",
    "print (price)\n",
    "print (dong)"
   ]
  },
  {
   "cell_type": "code",
   "execution_count": null,
   "id": "3a4a5213",
   "metadata": {},
   "outputs": [],
   "source": [
    "new_dong= [dong, business, person, price]"
   ]
  },
  {
   "cell_type": "code",
   "execution_count": null,
   "id": "1801f498",
   "metadata": {},
   "outputs": [],
   "source": [
    "with open('학원.pkl','wb')as f:\n",
    "    pickle.dump(new_dong,f)"
   ]
  },
  {
   "cell_type": "code",
   "execution_count": null,
   "id": "d41b81bf",
   "metadata": {},
   "outputs": [],
   "source": [
    "with open('학원.pkl', 'rb') as f:\n",
    "    data = pickle.load(f)"
   ]
  }
 ],
 "metadata": {
  "kernelspec": {
   "display_name": "Python 3.8.13 ('base')",
   "language": "python",
   "name": "python3"
  },
  "language_info": {
   "codemirror_mode": {
    "name": "ipython",
    "version": 3
   },
   "file_extension": ".py",
   "mimetype": "text/x-python",
   "name": "python",
   "nbconvert_exporter": "python",
   "pygments_lexer": "ipython3",
   "version": "3.8.13"
  },
  "vscode": {
   "interpreter": {
    "hash": "a077222d77dfe082b8f1dd562ad70e458ac2ab76993a0b248ab0476e32e9e8dd"
   }
  }
 },
 "nbformat": 4,
 "nbformat_minor": 5
}
